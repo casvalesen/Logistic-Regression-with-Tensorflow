{
 "cells": [
  {
   "cell_type": "markdown",
   "metadata": {},
   "source": [
    "# Logistic Regression with Tensorflow"
   ]
  },
  {
   "cell_type": "markdown",
   "metadata": {},
   "source": [
    "### Import Packages and set randomizer"
   ]
  },
  {
   "cell_type": "code",
   "execution_count": 3,
   "metadata": {},
   "outputs": [],
   "source": [
    "#Import packages \n",
    "import tensorflow as tf\n",
    "import numpy as np \n",
    "import pandas as pd \n",
    "import matplotlib.pyplot as plt\n",
    "\n",
    "#Set randomizer seed for consistent results\n",
    "np.random.seed(1)\n",
    "\n",
    "#Reset Graph \n",
    "tf.reset_default_graph()\n"
   ]
  },
  {
   "cell_type": "markdown",
   "metadata": {},
   "source": [
    "### Generate and Visualise  Data "
   ]
  },
  {
   "cell_type": "code",
   "execution_count": 4,
   "metadata": {},
   "outputs": [
    {
     "data": {
      "text/plain": [
       "<matplotlib.collections.PathCollection at 0x18330864a8>"
      ]
     },
     "execution_count": 4,
     "metadata": {},
     "output_type": "execute_result"
    },
    {
     "data": {
      "image/png": "[encoded data removed]",
      "text/plain": [
       "<matplotlib.figure.Figure at 0x1832f4d6a0>"
      ]
     },
     "metadata": {},
     "output_type": "display_data"
    }
   ],
   "source": [
    "# Generate Data\n",
    "x1 = np.random.normal(-4, 2, 1000)\n",
    "x2 = np.random.normal(4, 2, 1000)\n",
    "xs = np.append(x1, x2)\n",
    "ys = np.asarray([0.] * len(x1) + [1.] * len(x2))\n",
    "\n",
    "#Visualise the data \n",
    "plt.scatter(xs, ys)\n"
   ]
  },
  {
   "cell_type": "markdown",
   "metadata": {},
   "source": [
    "## Build the Tensorflow model"
   ]
  },
  {
   "cell_type": "markdown",
   "metadata": {},
   "source": [
    "### Reset Graph (run when changed graph)"
   ]
  },
  {
   "cell_type": "code",
   "execution_count": 5,
   "metadata": {},
   "outputs": [],
   "source": [
    "tf.reset_default_graph()"
   ]
  },
  {
   "cell_type": "markdown",
   "metadata": {},
   "source": [
    "### Create placeholders and variables"
   ]
  },
  {
   "cell_type": "code",
   "execution_count": 6,
   "metadata": {},
   "outputs": [],
   "source": [
    "#Create placeholders for data \n",
    "data_xs = tf.placeholder(tf.float64)\n",
    "data_ys = tf.placeholder(tf.float64)\n",
    "\n",
    "#Create Variables for parametres\n",
    "ws = tf.get_variable(name=\"weights_s\", shape=[], dtype=tf.float64, initializer=tf.constant_initializer(0.5))\n",
    "bs = tf.get_variable(name=\"bias_s\", shape=[], dtype=tf.float64, initializer=tf.constant_initializer(-1.0))\n"
   ]
  },
  {
   "cell_type": "markdown",
   "metadata": {},
   "source": [
    "### Specify Model, Loss function and Optimiser"
   ]
  },
  {
   "cell_type": "code",
   "execution_count": 7,
   "metadata": {},
   "outputs": [],
   "source": [
    "#Model using Sigmoid Activation Function\n",
    "ys_predicted = tf.sigmoid(tf.add(tf.multiply(data_xs,ws), bs)) #tf.multiply is element-wise multiplication\n",
    "\n",
    "#Cross entropy loss function\n",
    "sloss = tf.reduce_mean(-ys * tf.log(ys_predicted) - (1-ys)*tf.log(1-ys_predicted))\n",
    "\n",
    "#Gradient descent optimiser with learning rate 0.01\n",
    "optimiser = tf.train.GradientDescentOptimizer(learning_rate=0.01).minimize(sloss)\n"
   ]
  },
  {
   "cell_type": "markdown",
   "metadata": {},
   "source": [
    "### Train the model and plot loss function"
   ]
  },
  {
   "cell_type": "code",
   "execution_count": 8,
   "metadata": {},
   "outputs": [
    {
     "data": {
      "text/plain": [
       "[<matplotlib.lines.Line2D at 0x1833702d30>]"
      ]
     },
     "execution_count": 8,
     "metadata": {},
     "output_type": "execute_result"
    },
    {
     "data": {
      "image/png": "[encoded data removed]",
      "text/plain": [
       "<matplotlib.figure.Figure at 0x183327b3c8>"
      ]
     },
     "metadata": {},
     "output_type": "display_data"
    }
   ],
   "source": [
    "step = 1000 # total number of iterations \n",
    "\n",
    "with tf.Session() as sess:\n",
    "  sess.run(tf.global_variables_initializer())\n",
    "  loss_list = []\n",
    "  for i in range (step):\n",
    "    _, l = sess.run([optimiser, sloss], feed_dict={data_xs: xs, data_ys: ys})\n",
    "    loss_list.append(l) # save the loss at each iteration for plot so you can visualise the training process\n",
    "\n",
    "  ws_val, bs_val = sess.run([ws,bs])\n",
    "    \n",
    "#Plot the value of the loss function during training\n",
    "p = np.arange(step)\n",
    "plt.plot(p, loss_list)"
   ]
  },
  {
   "cell_type": "markdown",
   "metadata": {},
   "source": [
    "### Plot the trained Model "
   ]
  },
  {
   "cell_type": "code",
   "execution_count": 12,
   "metadata": {},
   "outputs": [
    {
     "data": {
      "image/png": "[encoded data removed]",
      "text/plain": [
       "<matplotlib.figure.Figure at 0x1833827b00>"
      ]
     },
     "metadata": {},
     "output_type": "display_data"
    }
   ],
   "source": [
    "#Define plot function\n",
    "def plot_prediction(xs, ys, ws_val, b_val):\n",
    "    all_xs = np.linspace(-10., 10., 100)\n",
    "    with tf.Session() as sess:\n",
    "        #predicted_vals = tf.sigmoid(tf.add(tf.multiply(ws,all_xs), bs))\n",
    "        predicted_vals = tf.sigmoid(all_xs * ws_val + b_val).eval()\n",
    "    plt.plot(all_xs, predicted_vals, 'r')\n",
    "    plt.scatter(xs, ys)\n",
    "    plt.xlabel('x')\n",
    "    plt.ylabel('y')\n",
    "    plt.show()\n",
    "\n",
    "#Run plot function\n",
    "plot_prediction(xs, ys, ws_val, bs_val)"
   ]
  },
  {
   "cell_type": "code",
   "execution_count": null,
   "metadata": {},
   "outputs": [],
   "source": []
  }
 ],
 "metadata": {
  "kernelspec": {
   "display_name": "Python 3",
   "language": "python",
   "name": "python3"
  },
  "language_info": {
   "codemirror_mode": {
    "name": "ipython",
    "version": 3
   },
   "file_extension": ".py",
   "mimetype": "text/x-python",
   "name": "python",
   "nbconvert_exporter": "python",
   "pygments_lexer": "ipython3",
   "version": "3.6.4"
  }
 },
 "nbformat": 4,
 "nbformat_minor": 2
}
